{
 "cells": [
  {
   "cell_type": "markdown",
   "metadata": {},
   "source": [
    "### Recreated PDF analysis, old notebook was deleted along with the old data."
   ]
  },
  {
   "cell_type": "code",
   "execution_count": 152,
   "metadata": {},
   "outputs": [],
   "source": [
    "import csv\n",
    "import folium\n",
    "import gmaps\n",
    "import gmaps.datasets\n",
    "import matplotlib.pyplot as plt\n",
    "import os\n",
    "import pandas as pd\n",
    "import pydeck as pdk\n",
    "import seaborn as sns"
   ]
  },
  {
   "cell_type": "code",
   "execution_count": 153,
   "metadata": {},
   "outputs": [],
   "source": [
    "path = os.getcwd() + '\\\\yt_main\\\\data\\\\only_in_japan__go'"
   ]
  },
  {
   "cell_type": "code",
   "execution_count": 154,
   "metadata": {},
   "outputs": [],
   "source": [
    "df = pd.read_csv(path + '\\\\only_in_japan__go_data.csv')"
   ]
  },
  {
   "cell_type": "code",
   "execution_count": 15,
   "metadata": {},
   "outputs": [
    {
     "data": {
      "text/html": [
       "<div>\n",
       "<style scoped>\n",
       "    .dataframe tbody tr th:only-of-type {\n",
       "        vertical-align: middle;\n",
       "    }\n",
       "\n",
       "    .dataframe tbody tr th {\n",
       "        vertical-align: top;\n",
       "    }\n",
       "\n",
       "    .dataframe thead th {\n",
       "        text-align: right;\n",
       "    }\n",
       "</style>\n",
       "<table border=\"1\" class=\"dataframe\">\n",
       "  <thead>\n",
       "    <tr style=\"text-align: right;\">\n",
       "      <th></th>\n",
       "      <th>0</th>\n",
       "      <th>1</th>\n",
       "      <th>2</th>\n",
       "      <th>3</th>\n",
       "      <th>4</th>\n",
       "    </tr>\n",
       "  </thead>\n",
       "  <tbody>\n",
       "    <tr>\n",
       "      <th>categoryId</th>\n",
       "      <td>24</td>\n",
       "      <td>24</td>\n",
       "      <td>24</td>\n",
       "      <td>24</td>\n",
       "      <td>24</td>\n",
       "    </tr>\n",
       "    <tr>\n",
       "      <th>viewCount</th>\n",
       "      <td>22958</td>\n",
       "      <td>13821</td>\n",
       "      <td>19513</td>\n",
       "      <td>20763</td>\n",
       "      <td>37401</td>\n",
       "    </tr>\n",
       "    <tr>\n",
       "      <th>likeCount</th>\n",
       "      <td>1425</td>\n",
       "      <td>1171</td>\n",
       "      <td>1485</td>\n",
       "      <td>1305</td>\n",
       "      <td>1902</td>\n",
       "    </tr>\n",
       "    <tr>\n",
       "      <th>dislikeCount</th>\n",
       "      <td>21</td>\n",
       "      <td>26</td>\n",
       "      <td>41</td>\n",
       "      <td>41</td>\n",
       "      <td>70</td>\n",
       "    </tr>\n",
       "    <tr>\n",
       "      <th>favoriteCount</th>\n",
       "      <td>0</td>\n",
       "      <td>0</td>\n",
       "      <td>0</td>\n",
       "      <td>0</td>\n",
       "      <td>0</td>\n",
       "    </tr>\n",
       "    <tr>\n",
       "      <th>commentCount</th>\n",
       "      <td>91</td>\n",
       "      <td>98</td>\n",
       "      <td>78</td>\n",
       "      <td>65</td>\n",
       "      <td>283</td>\n",
       "    </tr>\n",
       "    <tr>\n",
       "      <th>actualStartTime</th>\n",
       "      <td>2020-08-15T05:53:17Z</td>\n",
       "      <td>2020-08-14T02:47:04Z</td>\n",
       "      <td>2020-08-13T06:26:15Z</td>\n",
       "      <td>2020-08-11T17:10:53.309000Z</td>\n",
       "      <td>2020-08-11T06:06:43Z</td>\n",
       "    </tr>\n",
       "    <tr>\n",
       "      <th>actualEndTime</th>\n",
       "      <td>2020-08-15T06:42:19Z</td>\n",
       "      <td>2020-08-14T03:21:35Z</td>\n",
       "      <td>2020-08-13T07:24:18Z</td>\n",
       "      <td>2020-08-11T18:09:28Z</td>\n",
       "      <td>2020-08-11T06:42:36Z</td>\n",
       "    </tr>\n",
       "    <tr>\n",
       "      <th>scheduledStartTime</th>\n",
       "      <td>2020-08-15T05:55:04Z</td>\n",
       "      <td>2020-08-14T02:45:00Z</td>\n",
       "      <td>2020-08-13T06:35:03Z</td>\n",
       "      <td>2020-08-11T17:05:00Z</td>\n",
       "      <td>2020-08-11T06:05:49Z</td>\n",
       "    </tr>\n",
       "    <tr>\n",
       "      <th>madeForkids</th>\n",
       "      <td>False</td>\n",
       "      <td>False</td>\n",
       "      <td>False</td>\n",
       "      <td>False</td>\n",
       "      <td>False</td>\n",
       "    </tr>\n",
       "    <tr>\n",
       "      <th>topicCategories</th>\n",
       "      <td>['https://en.wikipedia.org/wiki/Vehicle', 'htt...</td>\n",
       "      <td>NaN</td>\n",
       "      <td>['https://en.wikipedia.org/wiki/Tourism', 'htt...</td>\n",
       "      <td>NaN</td>\n",
       "      <td>['https://en.wikipedia.org/wiki/Lifestyle_(soc...</td>\n",
       "    </tr>\n",
       "    <tr>\n",
       "      <th>relevantTopicIds</th>\n",
       "      <td>['/m/019_rr', '/m/07yv9', '/m/019_rr', '/m/07y...</td>\n",
       "      <td>NaN</td>\n",
       "      <td>['/m/019_rr', '/g/120yrv6h', '/m/019_rr', '/g/...</td>\n",
       "      <td>NaN</td>\n",
       "      <td>['/m/019_rr', '/m/019_rr']</td>\n",
       "    </tr>\n",
       "    <tr>\n",
       "      <th>locationDescription</th>\n",
       "      <td>Marunouchi</td>\n",
       "      <td>Nihonbashi</td>\n",
       "      <td>Hamarikyu Gardens</td>\n",
       "      <td>NaN</td>\n",
       "      <td>Shinbashi</td>\n",
       "    </tr>\n",
       "    <tr>\n",
       "      <th>latitude</th>\n",
       "      <td>35.6804</td>\n",
       "      <td>35.6812</td>\n",
       "      <td>35.6597</td>\n",
       "      <td>NaN</td>\n",
       "      <td>35.6648</td>\n",
       "    </tr>\n",
       "    <tr>\n",
       "      <th>longitude</th>\n",
       "      <td>139.766</td>\n",
       "      <td>139.774</td>\n",
       "      <td>139.763</td>\n",
       "      <td>NaN</td>\n",
       "      <td>139.756</td>\n",
       "    </tr>\n",
       "    <tr>\n",
       "      <th>altitude</th>\n",
       "      <td>0</td>\n",
       "      <td>0</td>\n",
       "      <td>0</td>\n",
       "      <td>NaN</td>\n",
       "      <td>0</td>\n",
       "    </tr>\n",
       "  </tbody>\n",
       "</table>\n",
       "</div>"
      ],
      "text/plain": [
       "                                                                     0  \\\n",
       "categoryId                                                          24   \n",
       "viewCount                                                        22958   \n",
       "likeCount                                                         1425   \n",
       "dislikeCount                                                        21   \n",
       "favoriteCount                                                        0   \n",
       "commentCount                                                        91   \n",
       "actualStartTime                                   2020-08-15T05:53:17Z   \n",
       "actualEndTime                                     2020-08-15T06:42:19Z   \n",
       "scheduledStartTime                                2020-08-15T05:55:04Z   \n",
       "madeForkids                                                      False   \n",
       "topicCategories      ['https://en.wikipedia.org/wiki/Vehicle', 'htt...   \n",
       "relevantTopicIds     ['/m/019_rr', '/m/07yv9', '/m/019_rr', '/m/07y...   \n",
       "locationDescription                                         Marunouchi   \n",
       "latitude                                                       35.6804   \n",
       "longitude                                                      139.766   \n",
       "altitude                                                             0   \n",
       "\n",
       "                                        1  \\\n",
       "categoryId                             24   \n",
       "viewCount                           13821   \n",
       "likeCount                            1171   \n",
       "dislikeCount                           26   \n",
       "favoriteCount                           0   \n",
       "commentCount                           98   \n",
       "actualStartTime      2020-08-14T02:47:04Z   \n",
       "actualEndTime        2020-08-14T03:21:35Z   \n",
       "scheduledStartTime   2020-08-14T02:45:00Z   \n",
       "madeForkids                         False   \n",
       "topicCategories                       NaN   \n",
       "relevantTopicIds                      NaN   \n",
       "locationDescription            Nihonbashi   \n",
       "latitude                          35.6812   \n",
       "longitude                         139.774   \n",
       "altitude                                0   \n",
       "\n",
       "                                                                     2  \\\n",
       "categoryId                                                          24   \n",
       "viewCount                                                        19513   \n",
       "likeCount                                                         1485   \n",
       "dislikeCount                                                        41   \n",
       "favoriteCount                                                        0   \n",
       "commentCount                                                        78   \n",
       "actualStartTime                                   2020-08-13T06:26:15Z   \n",
       "actualEndTime                                     2020-08-13T07:24:18Z   \n",
       "scheduledStartTime                                2020-08-13T06:35:03Z   \n",
       "madeForkids                                                      False   \n",
       "topicCategories      ['https://en.wikipedia.org/wiki/Tourism', 'htt...   \n",
       "relevantTopicIds     ['/m/019_rr', '/g/120yrv6h', '/m/019_rr', '/g/...   \n",
       "locationDescription                                  Hamarikyu Gardens   \n",
       "latitude                                                       35.6597   \n",
       "longitude                                                      139.763   \n",
       "altitude                                                             0   \n",
       "\n",
       "                                               3  \\\n",
       "categoryId                                    24   \n",
       "viewCount                                  20763   \n",
       "likeCount                                   1305   \n",
       "dislikeCount                                  41   \n",
       "favoriteCount                                  0   \n",
       "commentCount                                  65   \n",
       "actualStartTime      2020-08-11T17:10:53.309000Z   \n",
       "actualEndTime               2020-08-11T18:09:28Z   \n",
       "scheduledStartTime          2020-08-11T17:05:00Z   \n",
       "madeForkids                                False   \n",
       "topicCategories                              NaN   \n",
       "relevantTopicIds                             NaN   \n",
       "locationDescription                          NaN   \n",
       "latitude                                     NaN   \n",
       "longitude                                    NaN   \n",
       "altitude                                     NaN   \n",
       "\n",
       "                                                                     4  \n",
       "categoryId                                                          24  \n",
       "viewCount                                                        37401  \n",
       "likeCount                                                         1902  \n",
       "dislikeCount                                                        70  \n",
       "favoriteCount                                                        0  \n",
       "commentCount                                                       283  \n",
       "actualStartTime                                   2020-08-11T06:06:43Z  \n",
       "actualEndTime                                     2020-08-11T06:42:36Z  \n",
       "scheduledStartTime                                2020-08-11T06:05:49Z  \n",
       "madeForkids                                                      False  \n",
       "topicCategories      ['https://en.wikipedia.org/wiki/Lifestyle_(soc...  \n",
       "relevantTopicIds                            ['/m/019_rr', '/m/019_rr']  \n",
       "locationDescription                                          Shinbashi  \n",
       "latitude                                                       35.6648  \n",
       "longitude                                                      139.756  \n",
       "altitude                                                             0  "
      ]
     },
     "execution_count": 15,
     "metadata": {},
     "output_type": "execute_result"
    }
   ],
   "source": [
    "df.head().transpose()"
   ]
  },
  {
   "cell_type": "code",
   "execution_count": 16,
   "metadata": {},
   "outputs": [
    {
     "name": "stdout",
     "output_type": "stream",
     "text": [
      "<class 'pandas.core.frame.DataFrame'>\n",
      "RangeIndex: 300 entries, 0 to 299\n",
      "Data columns (total 16 columns):\n",
      "categoryId             300 non-null int64\n",
      "viewCount              300 non-null int64\n",
      "likeCount              300 non-null int64\n",
      "dislikeCount           300 non-null int64\n",
      "favoriteCount          300 non-null int64\n",
      "commentCount           300 non-null int64\n",
      "actualStartTime        298 non-null object\n",
      "actualEndTime          298 non-null object\n",
      "scheduledStartTime     298 non-null object\n",
      "madeForkids            300 non-null bool\n",
      "topicCategories        261 non-null object\n",
      "relevantTopicIds       261 non-null object\n",
      "locationDescription    255 non-null object\n",
      "latitude               255 non-null float64\n",
      "longitude              255 non-null float64\n",
      "altitude               255 non-null float64\n",
      "dtypes: bool(1), float64(3), int64(6), object(6)\n",
      "memory usage: 35.5+ KB\n"
     ]
    }
   ],
   "source": [
    "df.info()"
   ]
  },
  {
   "cell_type": "code",
   "execution_count": 17,
   "metadata": {},
   "outputs": [
    {
     "data": {
      "text/html": [
       "<div>\n",
       "<style scoped>\n",
       "    .dataframe tbody tr th:only-of-type {\n",
       "        vertical-align: middle;\n",
       "    }\n",
       "\n",
       "    .dataframe tbody tr th {\n",
       "        vertical-align: top;\n",
       "    }\n",
       "\n",
       "    .dataframe thead th {\n",
       "        text-align: right;\n",
       "    }\n",
       "</style>\n",
       "<table border=\"1\" class=\"dataframe\">\n",
       "  <thead>\n",
       "    <tr style=\"text-align: right;\">\n",
       "      <th></th>\n",
       "      <th>categoryId</th>\n",
       "      <th>viewCount</th>\n",
       "      <th>likeCount</th>\n",
       "      <th>dislikeCount</th>\n",
       "      <th>favoriteCount</th>\n",
       "      <th>commentCount</th>\n",
       "      <th>latitude</th>\n",
       "      <th>longitude</th>\n",
       "      <th>altitude</th>\n",
       "    </tr>\n",
       "  </thead>\n",
       "  <tbody>\n",
       "    <tr>\n",
       "      <th>count</th>\n",
       "      <td>300.0</td>\n",
       "      <td>300.000000</td>\n",
       "      <td>300.000000</td>\n",
       "      <td>300.000000</td>\n",
       "      <td>300.0</td>\n",
       "      <td>300.000000</td>\n",
       "      <td>255.000000</td>\n",
       "      <td>255.000000</td>\n",
       "      <td>255.0</td>\n",
       "    </tr>\n",
       "    <tr>\n",
       "      <th>mean</th>\n",
       "      <td>24.0</td>\n",
       "      <td>39418.286667</td>\n",
       "      <td>1593.753333</td>\n",
       "      <td>41.670000</td>\n",
       "      <td>0.0</td>\n",
       "      <td>158.466667</td>\n",
       "      <td>36.297493</td>\n",
       "      <td>136.577523</td>\n",
       "      <td>0.0</td>\n",
       "    </tr>\n",
       "    <tr>\n",
       "      <th>std</th>\n",
       "      <td>0.0</td>\n",
       "      <td>60351.631058</td>\n",
       "      <td>774.905535</td>\n",
       "      <td>38.072292</td>\n",
       "      <td>0.0</td>\n",
       "      <td>141.767942</td>\n",
       "      <td>2.404607</td>\n",
       "      <td>17.640967</td>\n",
       "      <td>0.0</td>\n",
       "    </tr>\n",
       "    <tr>\n",
       "      <th>min</th>\n",
       "      <td>24.0</td>\n",
       "      <td>7788.000000</td>\n",
       "      <td>398.000000</td>\n",
       "      <td>7.000000</td>\n",
       "      <td>0.0</td>\n",
       "      <td>26.000000</td>\n",
       "      <td>33.560945</td>\n",
       "      <td>11.095498</td>\n",
       "      <td>0.0</td>\n",
       "    </tr>\n",
       "    <tr>\n",
       "      <th>25%</th>\n",
       "      <td>24.0</td>\n",
       "      <td>19264.250000</td>\n",
       "      <td>1095.750000</td>\n",
       "      <td>22.000000</td>\n",
       "      <td>0.0</td>\n",
       "      <td>83.750000</td>\n",
       "      <td>35.661423</td>\n",
       "      <td>139.339084</td>\n",
       "      <td>0.0</td>\n",
       "    </tr>\n",
       "    <tr>\n",
       "      <th>50%</th>\n",
       "      <td>24.0</td>\n",
       "      <td>28256.500000</td>\n",
       "      <td>1447.000000</td>\n",
       "      <td>33.000000</td>\n",
       "      <td>0.0</td>\n",
       "      <td>121.000000</td>\n",
       "      <td>35.680400</td>\n",
       "      <td>139.767125</td>\n",
       "      <td>0.0</td>\n",
       "    </tr>\n",
       "    <tr>\n",
       "      <th>75%</th>\n",
       "      <td>24.0</td>\n",
       "      <td>40788.500000</td>\n",
       "      <td>1956.500000</td>\n",
       "      <td>49.000000</td>\n",
       "      <td>0.0</td>\n",
       "      <td>172.500000</td>\n",
       "      <td>35.702259</td>\n",
       "      <td>139.769017</td>\n",
       "      <td>0.0</td>\n",
       "    </tr>\n",
       "    <tr>\n",
       "      <th>max</th>\n",
       "      <td>24.0</td>\n",
       "      <td>940524.000000</td>\n",
       "      <td>6105.000000</td>\n",
       "      <td>508.000000</td>\n",
       "      <td>0.0</td>\n",
       "      <td>1062.000000</td>\n",
       "      <td>50.087569</td>\n",
       "      <td>144.089853</td>\n",
       "      <td>0.0</td>\n",
       "    </tr>\n",
       "  </tbody>\n",
       "</table>\n",
       "</div>"
      ],
      "text/plain": [
       "       categoryId      viewCount    likeCount  dislikeCount  favoriteCount  \\\n",
       "count       300.0     300.000000   300.000000    300.000000          300.0   \n",
       "mean         24.0   39418.286667  1593.753333     41.670000            0.0   \n",
       "std           0.0   60351.631058   774.905535     38.072292            0.0   \n",
       "min          24.0    7788.000000   398.000000      7.000000            0.0   \n",
       "25%          24.0   19264.250000  1095.750000     22.000000            0.0   \n",
       "50%          24.0   28256.500000  1447.000000     33.000000            0.0   \n",
       "75%          24.0   40788.500000  1956.500000     49.000000            0.0   \n",
       "max          24.0  940524.000000  6105.000000    508.000000            0.0   \n",
       "\n",
       "       commentCount    latitude   longitude  altitude  \n",
       "count    300.000000  255.000000  255.000000     255.0  \n",
       "mean     158.466667   36.297493  136.577523       0.0  \n",
       "std      141.767942    2.404607   17.640967       0.0  \n",
       "min       26.000000   33.560945   11.095498       0.0  \n",
       "25%       83.750000   35.661423  139.339084       0.0  \n",
       "50%      121.000000   35.680400  139.767125       0.0  \n",
       "75%      172.500000   35.702259  139.769017       0.0  \n",
       "max     1062.000000   50.087569  144.089853       0.0  "
      ]
     },
     "execution_count": 17,
     "metadata": {},
     "output_type": "execute_result"
    }
   ],
   "source": [
    "df.describe()"
   ]
  },
  {
   "cell_type": "code",
   "execution_count": 18,
   "metadata": {},
   "outputs": [
    {
     "data": {
      "text/plain": [
       "160"
      ]
     },
     "execution_count": 18,
     "metadata": {},
     "output_type": "execute_result"
    }
   ],
   "source": [
    "df['locationDescription'].nunique()"
   ]
  },
  {
   "cell_type": "markdown",
   "metadata": {},
   "source": [
    "## Top 30 streaming locations"
   ]
  },
  {
   "cell_type": "code",
   "execution_count": 19,
   "metadata": {
    "scrolled": false
   },
   "outputs": [
    {
     "data": {
      "text/plain": [
       "locationDescription\n",
       "Tokyo                     56\n",
       "Tokyo Station             14\n",
       "Akihabara                  6\n",
       "Hibiya Park                4\n",
       "Sado Island                4\n",
       "Nihonbashi                 3\n",
       "Ginza                      3\n",
       "Kōyashita Station          2\n",
       "Jokiin                     2\n",
       "Innsbruck                  2\n",
       "Shibuya Station            2\n",
       "Sumida River               2\n",
       "Harajuku Station           2\n",
       "Kyoto Station              2\n",
       "Fukuoka Airport            2\n",
       "Noboribetsu                2\n",
       "Ogi Minato (Port) Park     2\n",
       "Niigata                    2\n",
       "Shinbashi                  2\n",
       "Omicho Fish Market         1\n",
       "Omi-Imazu Station          1\n",
       "Omotesando Hills           1\n",
       "Shimbashi Station          1\n",
       "Noboribetsu Hot Spring     1\n",
       "Shiga                      1\n",
       "Noboribetsu Station        1\n",
       "Shibuya Hikarie Mall       1\n",
       "Odaiba                     1\n",
       "Shibakoen                  1\n",
       "Shiba Park 4th Block       1\n",
       "Name: viewCount, dtype: int64"
      ]
     },
     "execution_count": 19,
     "metadata": {},
     "output_type": "execute_result"
    }
   ],
   "source": [
    "df.groupby('locationDescription').count().sort_values(by ='viewCount', ascending=False)['viewCount'][:30]"
   ]
  },
  {
   "cell_type": "code",
   "execution_count": 27,
   "metadata": {
    "scrolled": true
   },
   "outputs": [
    {
     "name": "stderr",
     "output_type": "stream",
     "text": [
      "C:\\Users\\kai_t\\Anaconda3\\lib\\site-packages\\ipykernel_launcher.py:2: SettingWithCopyWarning: \n",
      "A value is trying to be set on a copy of a slice from a DataFrame\n",
      "\n",
      "See the caveats in the documentation: http://pandas.pydata.org/pandas-docs/stable/indexing.html#indexing-view-versus-copy\n",
      "  \n"
     ]
    },
    {
     "data": {
      "text/plain": [
       "locationDescription    0\n",
       "latitude               0\n",
       "longitude              0\n",
       "dtype: int64"
      ]
     },
     "execution_count": 27,
     "metadata": {},
     "output_type": "execute_result"
    }
   ],
   "source": [
    "location = df[['locationDescription', 'latitude', 'longitude']]\n",
    "location.dropna(inplace=True)"
   ]
  },
  {
   "cell_type": "code",
   "execution_count": 77,
   "metadata": {},
   "outputs": [
    {
     "name": "stderr",
     "output_type": "stream",
     "text": [
      "WARNING:matplotlib.axes._axes:'c' argument looks like a single numeric RGB or RGBA sequence, which should be avoided as value-mapping will have precedence in case its length matches with 'x' & 'y'.  Please use a 2-D array with a single row if you really want to specify the same RGB or RGBA value for all points.\n"
     ]
    },
    {
     "data": {
      "text/plain": [
       "<matplotlib.axes._subplots.AxesSubplot at 0x177aa466a20>"
      ]
     },
     "execution_count": 77,
     "metadata": {},
     "output_type": "execute_result"
    },
    {
     "data": {
      "image/png": "[encoded data removed]",
      "text/plain": [
       "<Figure size 432x288 with 1 Axes>"
      ]
     },
     "metadata": {},
     "output_type": "display_data"
    }
   ],
   "source": [
    "sns.set()\n",
    "local.plot.scatter(x = 'longitude', y ='latitude')"
   ]
  },
  {
   "cell_type": "markdown",
   "metadata": {},
   "source": [
    "## Top 10 location with the most viewers"
   ]
  },
  {
   "cell_type": "code",
   "execution_count": 42,
   "metadata": {},
   "outputs": [
    {
     "data": {
      "text/plain": [
       "locationDescription\n",
       "Tokyo                        2090067\n",
       "鷲神社(浅草酉の市御本社)                 940524\n",
       "Tokyo Station                 720143\n",
       "Akihabara                     301847\n",
       "Sado Island                   289968\n",
       "Tokyo Dome                    223462\n",
       "Noboribetsu Station           137922\n",
       "Shinbashi                     135553\n",
       "Ginza                         131222\n",
       "Sega Akihabara Building 2     121210\n",
       "Name: viewCount, dtype: int64"
      ]
     },
     "execution_count": 42,
     "metadata": {},
     "output_type": "execute_result"
    }
   ],
   "source": [
    "df.groupby('locationDescription')['viewCount'].sum().sort_values(ascending=False).iloc[:10]"
   ]
  },
  {
   "cell_type": "markdown",
   "metadata": {},
   "source": [
    "## Video distribution varying by month from the last 300 vids"
   ]
  },
  {
   "cell_type": "code",
   "execution_count": 155,
   "metadata": {},
   "outputs": [],
   "source": [
    "df['actualStartTime'] = pd.to_datetime(df['actualStartTime'])"
   ]
  },
  {
   "cell_type": "code",
   "execution_count": 156,
   "metadata": {},
   "outputs": [],
   "source": [
    "df['month'] = df['actualStartTime'].apply(lambda x: x.month)\n",
    "df['hour'] = df['actualStartTime'].apply(lambda x: x.hour)\n",
    "df['year'] = df['actualStartTime'].apply(lambda x: x.year)\n",
    "df['weekday'] = df['actualStartTime'].apply(lambda x: x.weekday())"
   ]
  },
  {
   "cell_type": "code",
   "execution_count": 157,
   "metadata": {},
   "outputs": [
    {
     "data": {
      "text/plain": [
       "<matplotlib.axes._subplots.AxesSubplot at 0x1bcd30c5748>"
      ]
     },
     "execution_count": 157,
     "metadata": {},
     "output_type": "execute_result"
    },
    {
     "data": {
      "image/png": "[encoded data removed]",
      "text/plain": [
       "<Figure size 432x288 with 1 Axes>"
      ]
     },
     "metadata": {
      "needs_background": "light"
     },
     "output_type": "display_data"
    }
   ],
   "source": [
    "df[df.year == 2019].groupby('month').count()['viewCount'].plot.bar()"
   ]
  },
  {
   "cell_type": "markdown",
   "metadata": {},
   "source": [
    "## Most upload in the week"
   ]
  },
  {
   "cell_type": "code",
   "execution_count": 86,
   "metadata": {},
   "outputs": [
    {
     "data": {
      "text/plain": [
       "<matplotlib.axes._subplots.AxesSubplot at 0x177ab5bea58>"
      ]
     },
     "execution_count": 86,
     "metadata": {},
     "output_type": "execute_result"
    },
    {
     "data": {
      "image/png": "[encoded data removed]",
      "text/plain": [
       "<Figure size 432x288 with 1 Axes>"
      ]
     },
     "metadata": {},
     "output_type": "display_data"
    }
   ],
   "source": [
    "df.groupby('weekday').count()['viewCount'].plot.bar()"
   ]
  },
  {
   "cell_type": "markdown",
   "metadata": {},
   "source": [
    "## Most viewed hours (UTC-9)"
   ]
  },
  {
   "cell_type": "code",
   "execution_count": 87,
   "metadata": {},
   "outputs": [
    {
     "data": {
      "text/plain": [
       "<matplotlib.axes._subplots.AxesSubplot at 0x177ab6249e8>"
      ]
     },
     "execution_count": 87,
     "metadata": {},
     "output_type": "execute_result"
    },
    {
     "data": {
      "image/png": "[encoded data removed]",
      "text/plain": [
       "<Figure size 432x288 with 1 Axes>"
      ]
     },
     "metadata": {},
     "output_type": "display_data"
    }
   ],
   "source": [
    "df.groupby('hour').sum()['viewCount'].plot.bar()"
   ]
  },
  {
   "cell_type": "markdown",
   "metadata": {},
   "source": [
    "## Like/Dislike by weekday videos"
   ]
  },
  {
   "cell_type": "code",
   "execution_count": 91,
   "metadata": {},
   "outputs": [
    {
     "data": {
      "text/plain": [
       "<matplotlib.axes._subplots.AxesSubplot at 0x177ab8a3898>"
      ]
     },
     "execution_count": 91,
     "metadata": {},
     "output_type": "execute_result"
    },
    {
     "data": {
      "image/png": "[encoded data removed]",
      "text/plain": [
       "<Figure size 432x288 with 1 Axes>"
      ]
     },
     "metadata": {},
     "output_type": "display_data"
    }
   ],
   "source": [
    "_, ax = plt.subplots()\n",
    "df.groupby('weekday').sum()['likeCount'].plot(kind ='bar', ax=ax, color='green')\n",
    "df.groupby('weekday').sum()['dislikeCount'].plot(kind ='bar', ax=ax, color='red')"
   ]
  },
  {
   "cell_type": "markdown",
   "metadata": {},
   "source": [
    "## Views per month"
   ]
  },
  {
   "cell_type": "code",
   "execution_count": 95,
   "metadata": {
    "scrolled": false
   },
   "outputs": [
    {
     "data": {
      "image/png": "[encoded data removed]",
      "text/plain": [
       "<Figure size 432x288 with 1 Axes>"
      ]
     },
     "metadata": {},
     "output_type": "display_data"
    },
    {
     "data": {
      "image/png": "[encoded data removed]",
      "text/plain": [
       "<Figure size 432x288 with 1 Axes>"
      ]
     },
     "metadata": {},
     "output_type": "display_data"
    }
   ],
   "source": [
    "for mon in list(df['year'].dropna().unique()):\n",
    "    df[df['year']==mon].groupby('month').sum()['viewCount'].plot.bar()\n",
    "    plt.show()"
   ]
  },
  {
   "cell_type": "code",
   "execution_count": 96,
   "metadata": {},
   "outputs": [
    {
     "data": {
      "text/html": [
       "<div>\n",
       "<style scoped>\n",
       "    .dataframe tbody tr th:only-of-type {\n",
       "        vertical-align: middle;\n",
       "    }\n",
       "\n",
       "    .dataframe tbody tr th {\n",
       "        vertical-align: top;\n",
       "    }\n",
       "\n",
       "    .dataframe thead th {\n",
       "        text-align: right;\n",
       "    }\n",
       "</style>\n",
       "<table border=\"1\" class=\"dataframe\">\n",
       "  <thead>\n",
       "    <tr style=\"text-align: right;\">\n",
       "      <th></th>\n",
       "      <th>categoryId</th>\n",
       "      <th>viewCount</th>\n",
       "      <th>likeCount</th>\n",
       "      <th>dislikeCount</th>\n",
       "      <th>favoriteCount</th>\n",
       "      <th>commentCount</th>\n",
       "      <th>actualStartTime</th>\n",
       "      <th>actualEndTime</th>\n",
       "      <th>scheduledStartTime</th>\n",
       "      <th>madeForkids</th>\n",
       "      <th>topicCategories</th>\n",
       "      <th>relevantTopicIds</th>\n",
       "      <th>locationDescription</th>\n",
       "      <th>latitude</th>\n",
       "      <th>longitude</th>\n",
       "      <th>altitude</th>\n",
       "      <th>month</th>\n",
       "      <th>hour</th>\n",
       "      <th>year</th>\n",
       "      <th>weekday</th>\n",
       "    </tr>\n",
       "  </thead>\n",
       "  <tbody>\n",
       "    <tr>\n",
       "      <th>0</th>\n",
       "      <td>24</td>\n",
       "      <td>22958</td>\n",
       "      <td>1425</td>\n",
       "      <td>21</td>\n",
       "      <td>0</td>\n",
       "      <td>91</td>\n",
       "      <td>2020-08-15 05:53:17+00:00</td>\n",
       "      <td>2020-08-15T06:42:19Z</td>\n",
       "      <td>2020-08-15T05:55:04Z</td>\n",
       "      <td>False</td>\n",
       "      <td>['https://en.wikipedia.org/wiki/Vehicle', 'htt...</td>\n",
       "      <td>['/m/019_rr', '/m/07yv9', '/m/019_rr', '/m/07y...</td>\n",
       "      <td>Marunouchi</td>\n",
       "      <td>35.680406</td>\n",
       "      <td>139.766486</td>\n",
       "      <td>0.0</td>\n",
       "      <td>8.0</td>\n",
       "      <td>5.0</td>\n",
       "      <td>2020.0</td>\n",
       "      <td>5.0</td>\n",
       "    </tr>\n",
       "    <tr>\n",
       "      <th>1</th>\n",
       "      <td>24</td>\n",
       "      <td>13821</td>\n",
       "      <td>1171</td>\n",
       "      <td>26</td>\n",
       "      <td>0</td>\n",
       "      <td>98</td>\n",
       "      <td>2020-08-14 02:47:04+00:00</td>\n",
       "      <td>2020-08-14T03:21:35Z</td>\n",
       "      <td>2020-08-14T02:45:00Z</td>\n",
       "      <td>False</td>\n",
       "      <td>NaN</td>\n",
       "      <td>NaN</td>\n",
       "      <td>Nihonbashi</td>\n",
       "      <td>35.681184</td>\n",
       "      <td>139.774154</td>\n",
       "      <td>0.0</td>\n",
       "      <td>8.0</td>\n",
       "      <td>2.0</td>\n",
       "      <td>2020.0</td>\n",
       "      <td>4.0</td>\n",
       "    </tr>\n",
       "    <tr>\n",
       "      <th>2</th>\n",
       "      <td>24</td>\n",
       "      <td>19513</td>\n",
       "      <td>1485</td>\n",
       "      <td>41</td>\n",
       "      <td>0</td>\n",
       "      <td>78</td>\n",
       "      <td>2020-08-13 06:26:15+00:00</td>\n",
       "      <td>2020-08-13T07:24:18Z</td>\n",
       "      <td>2020-08-13T06:35:03Z</td>\n",
       "      <td>False</td>\n",
       "      <td>['https://en.wikipedia.org/wiki/Tourism', 'htt...</td>\n",
       "      <td>['/m/019_rr', '/g/120yrv6h', '/m/019_rr', '/g/...</td>\n",
       "      <td>Hamarikyu Gardens</td>\n",
       "      <td>35.659737</td>\n",
       "      <td>139.763493</td>\n",
       "      <td>0.0</td>\n",
       "      <td>8.0</td>\n",
       "      <td>6.0</td>\n",
       "      <td>2020.0</td>\n",
       "      <td>3.0</td>\n",
       "    </tr>\n",
       "    <tr>\n",
       "      <th>3</th>\n",
       "      <td>24</td>\n",
       "      <td>20763</td>\n",
       "      <td>1305</td>\n",
       "      <td>41</td>\n",
       "      <td>0</td>\n",
       "      <td>65</td>\n",
       "      <td>2020-08-11 17:10:53.309000+00:00</td>\n",
       "      <td>2020-08-11T18:09:28Z</td>\n",
       "      <td>2020-08-11T17:05:00Z</td>\n",
       "      <td>False</td>\n",
       "      <td>NaN</td>\n",
       "      <td>NaN</td>\n",
       "      <td>NaN</td>\n",
       "      <td>NaN</td>\n",
       "      <td>NaN</td>\n",
       "      <td>NaN</td>\n",
       "      <td>8.0</td>\n",
       "      <td>17.0</td>\n",
       "      <td>2020.0</td>\n",
       "      <td>1.0</td>\n",
       "    </tr>\n",
       "    <tr>\n",
       "      <th>4</th>\n",
       "      <td>24</td>\n",
       "      <td>37401</td>\n",
       "      <td>1902</td>\n",
       "      <td>70</td>\n",
       "      <td>0</td>\n",
       "      <td>283</td>\n",
       "      <td>2020-08-11 06:06:43+00:00</td>\n",
       "      <td>2020-08-11T06:42:36Z</td>\n",
       "      <td>2020-08-11T06:05:49Z</td>\n",
       "      <td>False</td>\n",
       "      <td>['https://en.wikipedia.org/wiki/Lifestyle_(soc...</td>\n",
       "      <td>['/m/019_rr', '/m/019_rr']</td>\n",
       "      <td>Shinbashi</td>\n",
       "      <td>35.664829</td>\n",
       "      <td>139.756263</td>\n",
       "      <td>0.0</td>\n",
       "      <td>8.0</td>\n",
       "      <td>6.0</td>\n",
       "      <td>2020.0</td>\n",
       "      <td>1.0</td>\n",
       "    </tr>\n",
       "  </tbody>\n",
       "</table>\n",
       "</div>"
      ],
      "text/plain": [
       "   categoryId  viewCount  likeCount  dislikeCount  favoriteCount  \\\n",
       "0          24      22958       1425            21              0   \n",
       "1          24      13821       1171            26              0   \n",
       "2          24      19513       1485            41              0   \n",
       "3          24      20763       1305            41              0   \n",
       "4          24      37401       1902            70              0   \n",
       "\n",
       "   commentCount                  actualStartTime         actualEndTime  \\\n",
       "0            91        2020-08-15 05:53:17+00:00  2020-08-15T06:42:19Z   \n",
       "1            98        2020-08-14 02:47:04+00:00  2020-08-14T03:21:35Z   \n",
       "2            78        2020-08-13 06:26:15+00:00  2020-08-13T07:24:18Z   \n",
       "3            65 2020-08-11 17:10:53.309000+00:00  2020-08-11T18:09:28Z   \n",
       "4           283        2020-08-11 06:06:43+00:00  2020-08-11T06:42:36Z   \n",
       "\n",
       "     scheduledStartTime  madeForkids  \\\n",
       "0  2020-08-15T05:55:04Z        False   \n",
       "1  2020-08-14T02:45:00Z        False   \n",
       "2  2020-08-13T06:35:03Z        False   \n",
       "3  2020-08-11T17:05:00Z        False   \n",
       "4  2020-08-11T06:05:49Z        False   \n",
       "\n",
       "                                     topicCategories  \\\n",
       "0  ['https://en.wikipedia.org/wiki/Vehicle', 'htt...   \n",
       "1                                                NaN   \n",
       "2  ['https://en.wikipedia.org/wiki/Tourism', 'htt...   \n",
       "3                                                NaN   \n",
       "4  ['https://en.wikipedia.org/wiki/Lifestyle_(soc...   \n",
       "\n",
       "                                    relevantTopicIds locationDescription  \\\n",
       "0  ['/m/019_rr', '/m/07yv9', '/m/019_rr', '/m/07y...          Marunouchi   \n",
       "1                                                NaN          Nihonbashi   \n",
       "2  ['/m/019_rr', '/g/120yrv6h', '/m/019_rr', '/g/...   Hamarikyu Gardens   \n",
       "3                                                NaN                 NaN   \n",
       "4                         ['/m/019_rr', '/m/019_rr']           Shinbashi   \n",
       "\n",
       "    latitude   longitude  altitude  month  hour    year  weekday  \n",
       "0  35.680406  139.766486       0.0    8.0   5.0  2020.0      5.0  \n",
       "1  35.681184  139.774154       0.0    8.0   2.0  2020.0      4.0  \n",
       "2  35.659737  139.763493       0.0    8.0   6.0  2020.0      3.0  \n",
       "3        NaN         NaN       NaN    8.0  17.0  2020.0      1.0  \n",
       "4  35.664829  139.756263       0.0    8.0   6.0  2020.0      1.0  "
      ]
     },
     "execution_count": 96,
     "metadata": {},
     "output_type": "execute_result"
    }
   ],
   "source": [
    "df.head()"
   ]
  },
  {
   "cell_type": "code",
   "execution_count": 6,
   "metadata": {},
   "outputs": [
    {
     "data": {
      "text/html": [
       "<div>\n",
       "<style scoped>\n",
       "    .dataframe tbody tr th:only-of-type {\n",
       "        vertical-align: middle;\n",
       "    }\n",
       "\n",
       "    .dataframe tbody tr th {\n",
       "        vertical-align: top;\n",
       "    }\n",
       "\n",
       "    .dataframe thead th {\n",
       "        text-align: right;\n",
       "    }\n",
       "</style>\n",
       "<table border=\"1\" class=\"dataframe\">\n",
       "  <thead>\n",
       "    <tr style=\"text-align: right;\">\n",
       "      <th></th>\n",
       "      <th>categoryId</th>\n",
       "      <th>viewCount</th>\n",
       "      <th>likeCount</th>\n",
       "      <th>dislikeCount</th>\n",
       "      <th>favoriteCount</th>\n",
       "      <th>commentCount</th>\n",
       "      <th>latitude</th>\n",
       "      <th>longitude</th>\n",
       "      <th>altitude</th>\n",
       "      <th>month</th>\n",
       "      <th>hour</th>\n",
       "      <th>year</th>\n",
       "      <th>weekday</th>\n",
       "    </tr>\n",
       "  </thead>\n",
       "  <tbody>\n",
       "    <tr>\n",
       "      <th>count</th>\n",
       "      <td>300.0</td>\n",
       "      <td>300.000000</td>\n",
       "      <td>300.000000</td>\n",
       "      <td>300.000000</td>\n",
       "      <td>300.0</td>\n",
       "      <td>300.000000</td>\n",
       "      <td>255.000000</td>\n",
       "      <td>255.000000</td>\n",
       "      <td>255.0</td>\n",
       "      <td>298.000000</td>\n",
       "      <td>298.000000</td>\n",
       "      <td>298.000000</td>\n",
       "      <td>298.000000</td>\n",
       "    </tr>\n",
       "    <tr>\n",
       "      <th>mean</th>\n",
       "      <td>24.0</td>\n",
       "      <td>39418.286667</td>\n",
       "      <td>1593.753333</td>\n",
       "      <td>41.670000</td>\n",
       "      <td>0.0</td>\n",
       "      <td>158.466667</td>\n",
       "      <td>36.297493</td>\n",
       "      <td>136.577523</td>\n",
       "      <td>0.0</td>\n",
       "      <td>6.302013</td>\n",
       "      <td>6.422819</td>\n",
       "      <td>2019.607383</td>\n",
       "      <td>2.899329</td>\n",
       "    </tr>\n",
       "    <tr>\n",
       "      <th>std</th>\n",
       "      <td>0.0</td>\n",
       "      <td>60351.631058</td>\n",
       "      <td>774.905535</td>\n",
       "      <td>38.072292</td>\n",
       "      <td>0.0</td>\n",
       "      <td>141.767942</td>\n",
       "      <td>2.404607</td>\n",
       "      <td>17.640967</td>\n",
       "      <td>0.0</td>\n",
       "      <td>3.360906</td>\n",
       "      <td>5.095296</td>\n",
       "      <td>0.489154</td>\n",
       "      <td>2.035857</td>\n",
       "    </tr>\n",
       "    <tr>\n",
       "      <th>min</th>\n",
       "      <td>24.0</td>\n",
       "      <td>7788.000000</td>\n",
       "      <td>398.000000</td>\n",
       "      <td>7.000000</td>\n",
       "      <td>0.0</td>\n",
       "      <td>26.000000</td>\n",
       "      <td>33.560945</td>\n",
       "      <td>11.095498</td>\n",
       "      <td>0.0</td>\n",
       "      <td>1.000000</td>\n",
       "      <td>0.000000</td>\n",
       "      <td>2019.000000</td>\n",
       "      <td>0.000000</td>\n",
       "    </tr>\n",
       "    <tr>\n",
       "      <th>25%</th>\n",
       "      <td>24.0</td>\n",
       "      <td>19264.250000</td>\n",
       "      <td>1095.750000</td>\n",
       "      <td>22.000000</td>\n",
       "      <td>0.0</td>\n",
       "      <td>83.750000</td>\n",
       "      <td>35.661423</td>\n",
       "      <td>139.339084</td>\n",
       "      <td>0.0</td>\n",
       "      <td>3.000000</td>\n",
       "      <td>3.000000</td>\n",
       "      <td>2019.000000</td>\n",
       "      <td>1.000000</td>\n",
       "    </tr>\n",
       "    <tr>\n",
       "      <th>50%</th>\n",
       "      <td>24.0</td>\n",
       "      <td>28256.500000</td>\n",
       "      <td>1447.000000</td>\n",
       "      <td>33.000000</td>\n",
       "      <td>0.0</td>\n",
       "      <td>121.000000</td>\n",
       "      <td>35.680400</td>\n",
       "      <td>139.767125</td>\n",
       "      <td>0.0</td>\n",
       "      <td>6.000000</td>\n",
       "      <td>5.000000</td>\n",
       "      <td>2020.000000</td>\n",
       "      <td>3.000000</td>\n",
       "    </tr>\n",
       "    <tr>\n",
       "      <th>75%</th>\n",
       "      <td>24.0</td>\n",
       "      <td>40788.500000</td>\n",
       "      <td>1956.500000</td>\n",
       "      <td>49.000000</td>\n",
       "      <td>0.0</td>\n",
       "      <td>172.500000</td>\n",
       "      <td>35.702259</td>\n",
       "      <td>139.769017</td>\n",
       "      <td>0.0</td>\n",
       "      <td>9.000000</td>\n",
       "      <td>8.000000</td>\n",
       "      <td>2020.000000</td>\n",
       "      <td>5.000000</td>\n",
       "    </tr>\n",
       "    <tr>\n",
       "      <th>max</th>\n",
       "      <td>24.0</td>\n",
       "      <td>940524.000000</td>\n",
       "      <td>6105.000000</td>\n",
       "      <td>508.000000</td>\n",
       "      <td>0.0</td>\n",
       "      <td>1062.000000</td>\n",
       "      <td>50.087569</td>\n",
       "      <td>144.089853</td>\n",
       "      <td>0.0</td>\n",
       "      <td>12.000000</td>\n",
       "      <td>23.000000</td>\n",
       "      <td>2020.000000</td>\n",
       "      <td>6.000000</td>\n",
       "    </tr>\n",
       "  </tbody>\n",
       "</table>\n",
       "</div>"
      ],
      "text/plain": [
       "       categoryId      viewCount    likeCount  dislikeCount  favoriteCount  \\\n",
       "count       300.0     300.000000   300.000000    300.000000          300.0   \n",
       "mean         24.0   39418.286667  1593.753333     41.670000            0.0   \n",
       "std           0.0   60351.631058   774.905535     38.072292            0.0   \n",
       "min          24.0    7788.000000   398.000000      7.000000            0.0   \n",
       "25%          24.0   19264.250000  1095.750000     22.000000            0.0   \n",
       "50%          24.0   28256.500000  1447.000000     33.000000            0.0   \n",
       "75%          24.0   40788.500000  1956.500000     49.000000            0.0   \n",
       "max          24.0  940524.000000  6105.000000    508.000000            0.0   \n",
       "\n",
       "       commentCount    latitude   longitude  altitude       month        hour  \\\n",
       "count    300.000000  255.000000  255.000000     255.0  298.000000  298.000000   \n",
       "mean     158.466667   36.297493  136.577523       0.0    6.302013    6.422819   \n",
       "std      141.767942    2.404607   17.640967       0.0    3.360906    5.095296   \n",
       "min       26.000000   33.560945   11.095498       0.0    1.000000    0.000000   \n",
       "25%       83.750000   35.661423  139.339084       0.0    3.000000    3.000000   \n",
       "50%      121.000000   35.680400  139.767125       0.0    6.000000    5.000000   \n",
       "75%      172.500000   35.702259  139.769017       0.0    9.000000    8.000000   \n",
       "max     1062.000000   50.087569  144.089853       0.0   12.000000   23.000000   \n",
       "\n",
       "              year     weekday  \n",
       "count   298.000000  298.000000  \n",
       "mean   2019.607383    2.899329  \n",
       "std       0.489154    2.035857  \n",
       "min    2019.000000    0.000000  \n",
       "25%    2019.000000    1.000000  \n",
       "50%    2020.000000    3.000000  \n",
       "75%    2020.000000    5.000000  \n",
       "max    2020.000000    6.000000  "
      ]
     },
     "execution_count": 6,
     "metadata": {},
     "output_type": "execute_result"
    }
   ],
   "source": [
    "df.describe()"
   ]
  },
  {
   "cell_type": "markdown",
   "metadata": {},
   "source": [
    "## Simple prediction"
   ]
  },
  {
   "cell_type": "code",
   "execution_count": 7,
   "metadata": {
    "scrolled": false
   },
   "outputs": [
    {
     "data": {
      "text/plain": [
       "<matplotlib.axes._subplots.AxesSubplot at 0x1cb6363ae80>"
      ]
     },
     "execution_count": 7,
     "metadata": {},
     "output_type": "execute_result"
    },
    {
     "data": {
      "image/png": "[encoded data removed]",
      "text/plain": [
       "<Figure size 432x288 with 2 Axes>"
      ]
     },
     "metadata": {
      "needs_background": "light"
     },
     "output_type": "display_data"
    }
   ],
   "source": [
    "sns.heatmap(df.isnull())"
   ]
  },
  {
   "cell_type": "code",
   "execution_count": 8,
   "metadata": {
    "scrolled": true
   },
   "outputs": [
    {
     "data": {
      "text/html": [
       "<div>\n",
       "<style scoped>\n",
       "    .dataframe tbody tr th:only-of-type {\n",
       "        vertical-align: middle;\n",
       "    }\n",
       "\n",
       "    .dataframe tbody tr th {\n",
       "        vertical-align: top;\n",
       "    }\n",
       "\n",
       "    .dataframe thead th {\n",
       "        text-align: right;\n",
       "    }\n",
       "</style>\n",
       "<table border=\"1\" class=\"dataframe\">\n",
       "  <thead>\n",
       "    <tr style=\"text-align: right;\">\n",
       "      <th></th>\n",
       "      <th>categoryId</th>\n",
       "      <th>viewCount</th>\n",
       "      <th>likeCount</th>\n",
       "      <th>dislikeCount</th>\n",
       "      <th>favoriteCount</th>\n",
       "      <th>commentCount</th>\n",
       "      <th>actualStartTime</th>\n",
       "      <th>actualEndTime</th>\n",
       "      <th>scheduledStartTime</th>\n",
       "      <th>madeForkids</th>\n",
       "      <th>topicCategories</th>\n",
       "      <th>relevantTopicIds</th>\n",
       "      <th>locationDescription</th>\n",
       "      <th>latitude</th>\n",
       "      <th>longitude</th>\n",
       "      <th>altitude</th>\n",
       "      <th>month</th>\n",
       "      <th>hour</th>\n",
       "      <th>year</th>\n",
       "      <th>weekday</th>\n",
       "    </tr>\n",
       "  </thead>\n",
       "  <tbody>\n",
       "    <tr>\n",
       "      <th>0</th>\n",
       "      <td>24</td>\n",
       "      <td>22958</td>\n",
       "      <td>1425</td>\n",
       "      <td>21</td>\n",
       "      <td>0</td>\n",
       "      <td>91</td>\n",
       "      <td>2020-08-15 05:53:17+00:00</td>\n",
       "      <td>2020-08-15T06:42:19Z</td>\n",
       "      <td>2020-08-15T05:55:04Z</td>\n",
       "      <td>False</td>\n",
       "      <td>['https://en.wikipedia.org/wiki/Vehicle', 'htt...</td>\n",
       "      <td>['/m/019_rr', '/m/07yv9', '/m/019_rr', '/m/07y...</td>\n",
       "      <td>Marunouchi</td>\n",
       "      <td>35.680406</td>\n",
       "      <td>139.766486</td>\n",
       "      <td>0.0</td>\n",
       "      <td>8.0</td>\n",
       "      <td>5.0</td>\n",
       "      <td>2020.0</td>\n",
       "      <td>5.0</td>\n",
       "    </tr>\n",
       "    <tr>\n",
       "      <th>1</th>\n",
       "      <td>24</td>\n",
       "      <td>13821</td>\n",
       "      <td>1171</td>\n",
       "      <td>26</td>\n",
       "      <td>0</td>\n",
       "      <td>98</td>\n",
       "      <td>2020-08-14 02:47:04+00:00</td>\n",
       "      <td>2020-08-14T03:21:35Z</td>\n",
       "      <td>2020-08-14T02:45:00Z</td>\n",
       "      <td>False</td>\n",
       "      <td>NaN</td>\n",
       "      <td>NaN</td>\n",
       "      <td>Nihonbashi</td>\n",
       "      <td>35.681184</td>\n",
       "      <td>139.774154</td>\n",
       "      <td>0.0</td>\n",
       "      <td>8.0</td>\n",
       "      <td>2.0</td>\n",
       "      <td>2020.0</td>\n",
       "      <td>4.0</td>\n",
       "    </tr>\n",
       "    <tr>\n",
       "      <th>2</th>\n",
       "      <td>24</td>\n",
       "      <td>19513</td>\n",
       "      <td>1485</td>\n",
       "      <td>41</td>\n",
       "      <td>0</td>\n",
       "      <td>78</td>\n",
       "      <td>2020-08-13 06:26:15+00:00</td>\n",
       "      <td>2020-08-13T07:24:18Z</td>\n",
       "      <td>2020-08-13T06:35:03Z</td>\n",
       "      <td>False</td>\n",
       "      <td>['https://en.wikipedia.org/wiki/Tourism', 'htt...</td>\n",
       "      <td>['/m/019_rr', '/g/120yrv6h', '/m/019_rr', '/g/...</td>\n",
       "      <td>Hamarikyu Gardens</td>\n",
       "      <td>35.659737</td>\n",
       "      <td>139.763493</td>\n",
       "      <td>0.0</td>\n",
       "      <td>8.0</td>\n",
       "      <td>6.0</td>\n",
       "      <td>2020.0</td>\n",
       "      <td>3.0</td>\n",
       "    </tr>\n",
       "    <tr>\n",
       "      <th>3</th>\n",
       "      <td>24</td>\n",
       "      <td>20763</td>\n",
       "      <td>1305</td>\n",
       "      <td>41</td>\n",
       "      <td>0</td>\n",
       "      <td>65</td>\n",
       "      <td>2020-08-11 17:10:53.309000+00:00</td>\n",
       "      <td>2020-08-11T18:09:28Z</td>\n",
       "      <td>2020-08-11T17:05:00Z</td>\n",
       "      <td>False</td>\n",
       "      <td>NaN</td>\n",
       "      <td>NaN</td>\n",
       "      <td>NaN</td>\n",
       "      <td>NaN</td>\n",
       "      <td>NaN</td>\n",
       "      <td>NaN</td>\n",
       "      <td>8.0</td>\n",
       "      <td>17.0</td>\n",
       "      <td>2020.0</td>\n",
       "      <td>1.0</td>\n",
       "    </tr>\n",
       "    <tr>\n",
       "      <th>4</th>\n",
       "      <td>24</td>\n",
       "      <td>37401</td>\n",
       "      <td>1902</td>\n",
       "      <td>70</td>\n",
       "      <td>0</td>\n",
       "      <td>283</td>\n",
       "      <td>2020-08-11 06:06:43+00:00</td>\n",
       "      <td>2020-08-11T06:42:36Z</td>\n",
       "      <td>2020-08-11T06:05:49Z</td>\n",
       "      <td>False</td>\n",
       "      <td>['https://en.wikipedia.org/wiki/Lifestyle_(soc...</td>\n",
       "      <td>['/m/019_rr', '/m/019_rr']</td>\n",
       "      <td>Shinbashi</td>\n",
       "      <td>35.664829</td>\n",
       "      <td>139.756263</td>\n",
       "      <td>0.0</td>\n",
       "      <td>8.0</td>\n",
       "      <td>6.0</td>\n",
       "      <td>2020.0</td>\n",
       "      <td>1.0</td>\n",
       "    </tr>\n",
       "  </tbody>\n",
       "</table>\n",
       "</div>"
      ],
      "text/plain": [
       "   categoryId  viewCount  likeCount  dislikeCount  favoriteCount  \\\n",
       "0          24      22958       1425            21              0   \n",
       "1          24      13821       1171            26              0   \n",
       "2          24      19513       1485            41              0   \n",
       "3          24      20763       1305            41              0   \n",
       "4          24      37401       1902            70              0   \n",
       "\n",
       "   commentCount                  actualStartTime         actualEndTime  \\\n",
       "0            91        2020-08-15 05:53:17+00:00  2020-08-15T06:42:19Z   \n",
       "1            98        2020-08-14 02:47:04+00:00  2020-08-14T03:21:35Z   \n",
       "2            78        2020-08-13 06:26:15+00:00  2020-08-13T07:24:18Z   \n",
       "3            65 2020-08-11 17:10:53.309000+00:00  2020-08-11T18:09:28Z   \n",
       "4           283        2020-08-11 06:06:43+00:00  2020-08-11T06:42:36Z   \n",
       "\n",
       "     scheduledStartTime  madeForkids  \\\n",
       "0  2020-08-15T05:55:04Z        False   \n",
       "1  2020-08-14T02:45:00Z        False   \n",
       "2  2020-08-13T06:35:03Z        False   \n",
       "3  2020-08-11T17:05:00Z        False   \n",
       "4  2020-08-11T06:05:49Z        False   \n",
       "\n",
       "                                     topicCategories  \\\n",
       "0  ['https://en.wikipedia.org/wiki/Vehicle', 'htt...   \n",
       "1                                                NaN   \n",
       "2  ['https://en.wikipedia.org/wiki/Tourism', 'htt...   \n",
       "3                                                NaN   \n",
       "4  ['https://en.wikipedia.org/wiki/Lifestyle_(soc...   \n",
       "\n",
       "                                    relevantTopicIds locationDescription  \\\n",
       "0  ['/m/019_rr', '/m/07yv9', '/m/019_rr', '/m/07y...          Marunouchi   \n",
       "1                                                NaN          Nihonbashi   \n",
       "2  ['/m/019_rr', '/g/120yrv6h', '/m/019_rr', '/g/...   Hamarikyu Gardens   \n",
       "3                                                NaN                 NaN   \n",
       "4                         ['/m/019_rr', '/m/019_rr']           Shinbashi   \n",
       "\n",
       "    latitude   longitude  altitude  month  hour    year  weekday  \n",
       "0  35.680406  139.766486       0.0    8.0   5.0  2020.0      5.0  \n",
       "1  35.681184  139.774154       0.0    8.0   2.0  2020.0      4.0  \n",
       "2  35.659737  139.763493       0.0    8.0   6.0  2020.0      3.0  \n",
       "3        NaN         NaN       NaN    8.0  17.0  2020.0      1.0  \n",
       "4  35.664829  139.756263       0.0    8.0   6.0  2020.0      1.0  "
      ]
     },
     "execution_count": 8,
     "metadata": {},
     "output_type": "execute_result"
    }
   ],
   "source": [
    "df.head()"
   ]
  },
  {
   "cell_type": "code",
   "execution_count": 21,
   "metadata": {},
   "outputs": [
    {
     "data": {
      "text/plain": [
       "Index(['categoryId', 'viewCount', 'likeCount', 'dislikeCount', 'favoriteCount',\n",
       "       'commentCount', 'actualStartTime', 'actualEndTime',\n",
       "       'scheduledStartTime', 'madeForkids', 'topicCategories',\n",
       "       'relevantTopicIds', 'locationDescription', 'latitude', 'longitude',\n",
       "       'altitude', 'month', 'hour', 'year', 'weekday'],\n",
       "      dtype='object')"
      ]
     },
     "execution_count": 21,
     "metadata": {},
     "output_type": "execute_result"
    }
   ],
   "source": [
    "df.columns"
   ]
  },
  {
   "cell_type": "code",
   "execution_count": 22,
   "metadata": {},
   "outputs": [],
   "source": [
    "df.drop(['categoryId','favoriteCount',\n",
    "      'actualStartTime', 'actualEndTime',\n",
    "       'scheduledStartTime', 'madeForkids', 'topicCategories',\n",
    "       'relevantTopicIds', 'latitude', 'longitude',\n",
    "       'altitude','year'], axis=1, inplace=True)"
   ]
  },
  {
   "cell_type": "code",
   "execution_count": 31,
   "metadata": {
    "scrolled": true
   },
   "outputs": [
    {
     "data": {
      "text/html": [
       "<div>\n",
       "<style scoped>\n",
       "    .dataframe tbody tr th:only-of-type {\n",
       "        vertical-align: middle;\n",
       "    }\n",
       "\n",
       "    .dataframe tbody tr th {\n",
       "        vertical-align: top;\n",
       "    }\n",
       "\n",
       "    .dataframe thead th {\n",
       "        text-align: right;\n",
       "    }\n",
       "</style>\n",
       "<table border=\"1\" class=\"dataframe\">\n",
       "  <thead>\n",
       "    <tr style=\"text-align: right;\">\n",
       "      <th></th>\n",
       "      <th>viewCount</th>\n",
       "      <th>likeCount</th>\n",
       "      <th>dislikeCount</th>\n",
       "      <th>commentCount</th>\n",
       "      <th>locationDescription</th>\n",
       "      <th>month</th>\n",
       "      <th>hour</th>\n",
       "      <th>weekday</th>\n",
       "    </tr>\n",
       "  </thead>\n",
       "  <tbody>\n",
       "    <tr>\n",
       "      <th>0</th>\n",
       "      <td>22958</td>\n",
       "      <td>1425</td>\n",
       "      <td>21</td>\n",
       "      <td>91</td>\n",
       "      <td>Marunouchi</td>\n",
       "      <td>8.0</td>\n",
       "      <td>5.0</td>\n",
       "      <td>5.0</td>\n",
       "    </tr>\n",
       "    <tr>\n",
       "      <th>1</th>\n",
       "      <td>13821</td>\n",
       "      <td>1171</td>\n",
       "      <td>26</td>\n",
       "      <td>98</td>\n",
       "      <td>Nihonbashi</td>\n",
       "      <td>8.0</td>\n",
       "      <td>2.0</td>\n",
       "      <td>4.0</td>\n",
       "    </tr>\n",
       "    <tr>\n",
       "      <th>2</th>\n",
       "      <td>19513</td>\n",
       "      <td>1485</td>\n",
       "      <td>41</td>\n",
       "      <td>78</td>\n",
       "      <td>Hamarikyu Gardens</td>\n",
       "      <td>8.0</td>\n",
       "      <td>6.0</td>\n",
       "      <td>3.0</td>\n",
       "    </tr>\n",
       "    <tr>\n",
       "      <th>3</th>\n",
       "      <td>20763</td>\n",
       "      <td>1305</td>\n",
       "      <td>41</td>\n",
       "      <td>65</td>\n",
       "      <td>Tokyo</td>\n",
       "      <td>8.0</td>\n",
       "      <td>17.0</td>\n",
       "      <td>1.0</td>\n",
       "    </tr>\n",
       "    <tr>\n",
       "      <th>4</th>\n",
       "      <td>37401</td>\n",
       "      <td>1902</td>\n",
       "      <td>70</td>\n",
       "      <td>283</td>\n",
       "      <td>Shinbashi</td>\n",
       "      <td>8.0</td>\n",
       "      <td>6.0</td>\n",
       "      <td>1.0</td>\n",
       "    </tr>\n",
       "  </tbody>\n",
       "</table>\n",
       "</div>"
      ],
      "text/plain": [
       "   viewCount  likeCount  dislikeCount  commentCount locationDescription  \\\n",
       "0      22958       1425            21            91          Marunouchi   \n",
       "1      13821       1171            26            98          Nihonbashi   \n",
       "2      19513       1485            41            78   Hamarikyu Gardens   \n",
       "3      20763       1305            41            65               Tokyo   \n",
       "4      37401       1902            70           283           Shinbashi   \n",
       "\n",
       "   month  hour  weekday  \n",
       "0    8.0   5.0      5.0  \n",
       "1    8.0   2.0      4.0  \n",
       "2    8.0   6.0      3.0  \n",
       "3    8.0  17.0      1.0  \n",
       "4    8.0   6.0      1.0  "
      ]
     },
     "execution_count": 31,
     "metadata": {},
     "output_type": "execute_result"
    }
   ],
   "source": [
    "df.head()"
   ]
  },
  {
   "cell_type": "code",
   "execution_count": 27,
   "metadata": {},
   "outputs": [],
   "source": [
    "df['locationDescription'].fillna('Tokyo', inplace=True)\n",
    "df.dropna(inplace=True)"
   ]
  },
  {
   "cell_type": "markdown",
   "metadata": {},
   "source": [
    "### Predicting view Counts"
   ]
  },
  {
   "cell_type": "code",
   "execution_count": 127,
   "metadata": {},
   "outputs": [],
   "source": [
    "import category_encoders as ce\n",
    "from sklearn import preprocessing"
   ]
  },
  {
   "cell_type": "code",
   "execution_count": 128,
   "metadata": {},
   "outputs": [],
   "source": [
    "LE = preprocessing.LabelEncoder()"
   ]
  },
  {
   "cell_type": "code",
   "execution_count": 129,
   "metadata": {},
   "outputs": [],
   "source": [
    "df1 = df.copy()"
   ]
  },
  {
   "cell_type": "code",
   "execution_count": 130,
   "metadata": {},
   "outputs": [],
   "source": [
    "df1['actualStartTime'] = pd.to_datetime(df1['actualStartTime'])"
   ]
  },
  {
   "cell_type": "code",
   "execution_count": 131,
   "metadata": {},
   "outputs": [],
   "source": [
    "df1['month'] = df1['actualStartTime'].apply(lambda x: x.month)\n",
    "df1['hour'] = df1['actualStartTime'].apply(lambda x: x.hour)\n",
    "df1['year'] = df1['actualStartTime'].apply(lambda x: x.year)\n",
    "df1['weekday'] = df1['actualStartTime'].apply(lambda x: x.weekday())"
   ]
  },
  {
   "cell_type": "code",
   "execution_count": 132,
   "metadata": {},
   "outputs": [],
   "source": [
    "df_y = df1.pop('viewCount')"
   ]
  },
  {
   "cell_type": "code",
   "execution_count": 133,
   "metadata": {},
   "outputs": [],
   "source": [
    "df1.drop(['categoryId','favoriteCount',\n",
    "      'actualStartTime', 'actualEndTime',\n",
    "       'scheduledStartTime', 'madeForkids', 'topicCategories',\n",
    "       'relevantTopicIds', 'latitude', 'longitude',\n",
    "       'altitude','year'], axis=1, inplace=True)"
   ]
  },
  {
   "cell_type": "code",
   "execution_count": 134,
   "metadata": {},
   "outputs": [],
   "source": [
    "df1['locationDescription'].fillna('Tokyo', inplace=True)"
   ]
  },
  {
   "cell_type": "code",
   "execution_count": 135,
   "metadata": {},
   "outputs": [],
   "source": [
    "df1['locationDescription'] = LE.fit_transform(df1['locationDescription'])"
   ]
  },
  {
   "cell_type": "code",
   "execution_count": 136,
   "metadata": {},
   "outputs": [
    {
     "name": "stdout",
     "output_type": "stream",
     "text": [
      "likeCount              0\n",
      "dislikeCount           0\n",
      "commentCount           0\n",
      "locationDescription    0\n",
      "month                  2\n",
      "hour                   2\n",
      "weekday                2\n",
      "dtype: int64\n"
     ]
    }
   ],
   "source": [
    "print(df1.isnull().sum())\n",
    "df1.dropna(inplace=True)"
   ]
  },
  {
   "cell_type": "code",
   "execution_count": 41,
   "metadata": {
    "scrolled": false
   },
   "outputs": [
    {
     "data": {
      "text/plain": [
       "<seaborn.axisgrid.PairGrid at 0x1bcccbbd470>"
      ]
     },
     "execution_count": 41,
     "metadata": {},
     "output_type": "execute_result"
    },
    {
     "data": {
      "image/png": "[encoded data removed]",
      "text/plain": [
       "<Figure size 1260x1260 with 56 Axes>"
      ]
     },
     "metadata": {
      "needs_background": "light"
     },
     "output_type": "display_data"
    }
   ],
   "source": [
    "sns.pairplot(df1)"
   ]
  },
  {
   "cell_type": "markdown",
   "metadata": {},
   "source": [
    "Generate additional features\n",
    "\n",
    "like/dislike \\\n",
    "commentCount/dislike\\\n",
    "commentCount/like\\\n",
    "likeCount/hour \\\n",
    "dislike/hour \\\n",
    "commentCount/hour "
   ]
  },
  {
   "cell_type": "code",
   "execution_count": 137,
   "metadata": {},
   "outputs": [
    {
     "data": {
      "text/plain": [
       "Index(['likeCount', 'dislikeCount', 'commentCount', 'locationDescription',\n",
       "       'month', 'hour', 'weekday'],\n",
       "      dtype='object')"
      ]
     },
     "execution_count": 137,
     "metadata": {},
     "output_type": "execute_result"
    }
   ],
   "source": [
    "df1.columns"
   ]
  },
  {
   "cell_type": "code",
   "execution_count": 138,
   "metadata": {},
   "outputs": [],
   "source": [
    "df1['like_ratio'] = df1['likeCount']/df1['dislikeCount']\n",
    "df1['comment_dislike'] = df1['commentCount']/df1['dislikeCount']\n",
    "df1['comment_like'] = df1['commentCount']/df1['likeCount']\n",
    "df1['like_hour'] = df1['hour']/df1['likeCount']\n",
    "df1['dislike_hour'] = df1['hour']/df1['dislikeCount']\n",
    "df1['comment_hour'] = df1['hour']/df1['commentCount']"
   ]
  },
  {
   "cell_type": "code",
   "execution_count": 139,
   "metadata": {},
   "outputs": [
    {
     "data": {
      "text/html": [
       "<div>\n",
       "<style scoped>\n",
       "    .dataframe tbody tr th:only-of-type {\n",
       "        vertical-align: middle;\n",
       "    }\n",
       "\n",
       "    .dataframe tbody tr th {\n",
       "        vertical-align: top;\n",
       "    }\n",
       "\n",
       "    .dataframe thead th {\n",
       "        text-align: right;\n",
       "    }\n",
       "</style>\n",
       "<table border=\"1\" class=\"dataframe\">\n",
       "  <thead>\n",
       "    <tr style=\"text-align: right;\">\n",
       "      <th></th>\n",
       "      <th>likeCount</th>\n",
       "      <th>dislikeCount</th>\n",
       "      <th>commentCount</th>\n",
       "      <th>locationDescription</th>\n",
       "      <th>month</th>\n",
       "      <th>hour</th>\n",
       "      <th>weekday</th>\n",
       "      <th>like_ratio</th>\n",
       "      <th>comment_dislike</th>\n",
       "      <th>comment_like</th>\n",
       "      <th>like_hour</th>\n",
       "      <th>dislike_hour</th>\n",
       "      <th>comment_hour</th>\n",
       "    </tr>\n",
       "  </thead>\n",
       "  <tbody>\n",
       "    <tr>\n",
       "      <th>count</th>\n",
       "      <td>298.000000</td>\n",
       "      <td>298.000000</td>\n",
       "      <td>298.000000</td>\n",
       "      <td>298.000000</td>\n",
       "      <td>298.000000</td>\n",
       "      <td>298.000000</td>\n",
       "      <td>298.000000</td>\n",
       "      <td>298.000000</td>\n",
       "      <td>298.000000</td>\n",
       "      <td>298.000000</td>\n",
       "      <td>298.000000</td>\n",
       "      <td>298.000000</td>\n",
       "      <td>298.000000</td>\n",
       "    </tr>\n",
       "    <tr>\n",
       "      <th>mean</th>\n",
       "      <td>1584.573826</td>\n",
       "      <td>41.526846</td>\n",
       "      <td>157.258389</td>\n",
       "      <td>97.285235</td>\n",
       "      <td>6.302013</td>\n",
       "      <td>6.422819</td>\n",
       "      <td>2.899329</td>\n",
       "      <td>45.524681</td>\n",
       "      <td>4.050198</td>\n",
       "      <td>0.094070</td>\n",
       "      <td>0.005219</td>\n",
       "      <td>0.233745</td>\n",
       "      <td>0.063437</td>\n",
       "    </tr>\n",
       "    <tr>\n",
       "      <th>std</th>\n",
       "      <td>749.411533</td>\n",
       "      <td>38.080381</td>\n",
       "      <td>140.221843</td>\n",
       "      <td>45.822478</td>\n",
       "      <td>3.360906</td>\n",
       "      <td>5.095296</td>\n",
       "      <td>2.035857</td>\n",
       "      <td>18.358913</td>\n",
       "      <td>1.782915</td>\n",
       "      <td>0.044159</td>\n",
       "      <td>0.005687</td>\n",
       "      <td>0.265833</td>\n",
       "      <td>0.072565</td>\n",
       "    </tr>\n",
       "    <tr>\n",
       "      <th>min</th>\n",
       "      <td>398.000000</td>\n",
       "      <td>7.000000</td>\n",
       "      <td>26.000000</td>\n",
       "      <td>0.000000</td>\n",
       "      <td>1.000000</td>\n",
       "      <td>0.000000</td>\n",
       "      <td>0.000000</td>\n",
       "      <td>12.017717</td>\n",
       "      <td>0.582677</td>\n",
       "      <td>0.033356</td>\n",
       "      <td>0.000000</td>\n",
       "      <td>0.000000</td>\n",
       "      <td>0.000000</td>\n",
       "    </tr>\n",
       "    <tr>\n",
       "      <th>25%</th>\n",
       "      <td>1100.000000</td>\n",
       "      <td>22.000000</td>\n",
       "      <td>83.250000</td>\n",
       "      <td>60.250000</td>\n",
       "      <td>3.000000</td>\n",
       "      <td>3.000000</td>\n",
       "      <td>1.000000</td>\n",
       "      <td>32.181978</td>\n",
       "      <td>2.712374</td>\n",
       "      <td>0.069416</td>\n",
       "      <td>0.001836</td>\n",
       "      <td>0.066667</td>\n",
       "      <td>0.019018</td>\n",
       "    </tr>\n",
       "    <tr>\n",
       "      <th>50%</th>\n",
       "      <td>1447.000000</td>\n",
       "      <td>33.000000</td>\n",
       "      <td>121.000000</td>\n",
       "      <td>122.500000</td>\n",
       "      <td>6.000000</td>\n",
       "      <td>5.000000</td>\n",
       "      <td>3.000000</td>\n",
       "      <td>43.269737</td>\n",
       "      <td>3.845238</td>\n",
       "      <td>0.084551</td>\n",
       "      <td>0.003211</td>\n",
       "      <td>0.142857</td>\n",
       "      <td>0.039293</td>\n",
       "    </tr>\n",
       "    <tr>\n",
       "      <th>75%</th>\n",
       "      <td>1949.250000</td>\n",
       "      <td>49.000000</td>\n",
       "      <td>171.500000</td>\n",
       "      <td>132.000000</td>\n",
       "      <td>9.000000</td>\n",
       "      <td>8.000000</td>\n",
       "      <td>5.000000</td>\n",
       "      <td>54.518939</td>\n",
       "      <td>4.937364</td>\n",
       "      <td>0.105266</td>\n",
       "      <td>0.006178</td>\n",
       "      <td>0.276197</td>\n",
       "      <td>0.077778</td>\n",
       "    </tr>\n",
       "    <tr>\n",
       "      <th>max</th>\n",
       "      <td>6105.000000</td>\n",
       "      <td>508.000000</td>\n",
       "      <td>1062.000000</td>\n",
       "      <td>159.000000</td>\n",
       "      <td>12.000000</td>\n",
       "      <td>23.000000</td>\n",
       "      <td>6.000000</td>\n",
       "      <td>147.181818</td>\n",
       "      <td>12.611111</td>\n",
       "      <td>0.346093</td>\n",
       "      <td>0.038217</td>\n",
       "      <td>1.714286</td>\n",
       "      <td>0.461538</td>\n",
       "    </tr>\n",
       "  </tbody>\n",
       "</table>\n",
       "</div>"
      ],
      "text/plain": [
       "         likeCount  dislikeCount  commentCount  locationDescription  \\\n",
       "count   298.000000    298.000000    298.000000           298.000000   \n",
       "mean   1584.573826     41.526846    157.258389            97.285235   \n",
       "std     749.411533     38.080381    140.221843            45.822478   \n",
       "min     398.000000      7.000000     26.000000             0.000000   \n",
       "25%    1100.000000     22.000000     83.250000            60.250000   \n",
       "50%    1447.000000     33.000000    121.000000           122.500000   \n",
       "75%    1949.250000     49.000000    171.500000           132.000000   \n",
       "max    6105.000000    508.000000   1062.000000           159.000000   \n",
       "\n",
       "            month        hour     weekday  like_ratio  comment_dislike  \\\n",
       "count  298.000000  298.000000  298.000000  298.000000       298.000000   \n",
       "mean     6.302013    6.422819    2.899329   45.524681         4.050198   \n",
       "std      3.360906    5.095296    2.035857   18.358913         1.782915   \n",
       "min      1.000000    0.000000    0.000000   12.017717         0.582677   \n",
       "25%      3.000000    3.000000    1.000000   32.181978         2.712374   \n",
       "50%      6.000000    5.000000    3.000000   43.269737         3.845238   \n",
       "75%      9.000000    8.000000    5.000000   54.518939         4.937364   \n",
       "max     12.000000   23.000000    6.000000  147.181818        12.611111   \n",
       "\n",
       "       comment_like   like_hour  dislike_hour  comment_hour  \n",
       "count    298.000000  298.000000    298.000000    298.000000  \n",
       "mean       0.094070    0.005219      0.233745      0.063437  \n",
       "std        0.044159    0.005687      0.265833      0.072565  \n",
       "min        0.033356    0.000000      0.000000      0.000000  \n",
       "25%        0.069416    0.001836      0.066667      0.019018  \n",
       "50%        0.084551    0.003211      0.142857      0.039293  \n",
       "75%        0.105266    0.006178      0.276197      0.077778  \n",
       "max        0.346093    0.038217      1.714286      0.461538  "
      ]
     },
     "execution_count": 139,
     "metadata": {},
     "output_type": "execute_result"
    }
   ],
   "source": [
    "df1.describe()"
   ]
  },
  {
   "cell_type": "code",
   "execution_count": 140,
   "metadata": {},
   "outputs": [
    {
     "data": {
      "text/html": [
       "<div>\n",
       "<style scoped>\n",
       "    .dataframe tbody tr th:only-of-type {\n",
       "        vertical-align: middle;\n",
       "    }\n",
       "\n",
       "    .dataframe tbody tr th {\n",
       "        vertical-align: top;\n",
       "    }\n",
       "\n",
       "    .dataframe thead th {\n",
       "        text-align: right;\n",
       "    }\n",
       "</style>\n",
       "<table border=\"1\" class=\"dataframe\">\n",
       "  <thead>\n",
       "    <tr style=\"text-align: right;\">\n",
       "      <th></th>\n",
       "      <th>likeCount</th>\n",
       "      <th>dislikeCount</th>\n",
       "      <th>commentCount</th>\n",
       "      <th>locationDescription</th>\n",
       "      <th>month</th>\n",
       "      <th>hour</th>\n",
       "      <th>weekday</th>\n",
       "      <th>like_ratio</th>\n",
       "      <th>comment_dislike</th>\n",
       "      <th>comment_like</th>\n",
       "      <th>like_hour</th>\n",
       "      <th>dislike_hour</th>\n",
       "      <th>comment_hour</th>\n",
       "    </tr>\n",
       "  </thead>\n",
       "  <tbody>\n",
       "    <tr>\n",
       "      <th>0</th>\n",
       "      <td>1425</td>\n",
       "      <td>21</td>\n",
       "      <td>91</td>\n",
       "      <td>74</td>\n",
       "      <td>8.0</td>\n",
       "      <td>5.0</td>\n",
       "      <td>5.0</td>\n",
       "      <td>67.857143</td>\n",
       "      <td>4.333333</td>\n",
       "      <td>0.063860</td>\n",
       "      <td>0.003509</td>\n",
       "      <td>0.238095</td>\n",
       "      <td>0.054945</td>\n",
       "    </tr>\n",
       "    <tr>\n",
       "      <th>1</th>\n",
       "      <td>1171</td>\n",
       "      <td>26</td>\n",
       "      <td>98</td>\n",
       "      <td>82</td>\n",
       "      <td>8.0</td>\n",
       "      <td>2.0</td>\n",
       "      <td>4.0</td>\n",
       "      <td>45.038462</td>\n",
       "      <td>3.769231</td>\n",
       "      <td>0.083689</td>\n",
       "      <td>0.001708</td>\n",
       "      <td>0.076923</td>\n",
       "      <td>0.020408</td>\n",
       "    </tr>\n",
       "    <tr>\n",
       "      <th>2</th>\n",
       "      <td>1485</td>\n",
       "      <td>41</td>\n",
       "      <td>78</td>\n",
       "      <td>25</td>\n",
       "      <td>8.0</td>\n",
       "      <td>6.0</td>\n",
       "      <td>3.0</td>\n",
       "      <td>36.219512</td>\n",
       "      <td>1.902439</td>\n",
       "      <td>0.052525</td>\n",
       "      <td>0.004040</td>\n",
       "      <td>0.146341</td>\n",
       "      <td>0.076923</td>\n",
       "    </tr>\n",
       "    <tr>\n",
       "      <th>3</th>\n",
       "      <td>1305</td>\n",
       "      <td>41</td>\n",
       "      <td>65</td>\n",
       "      <td>132</td>\n",
       "      <td>8.0</td>\n",
       "      <td>17.0</td>\n",
       "      <td>1.0</td>\n",
       "      <td>31.829268</td>\n",
       "      <td>1.585366</td>\n",
       "      <td>0.049808</td>\n",
       "      <td>0.013027</td>\n",
       "      <td>0.414634</td>\n",
       "      <td>0.261538</td>\n",
       "    </tr>\n",
       "    <tr>\n",
       "      <th>4</th>\n",
       "      <td>1902</td>\n",
       "      <td>70</td>\n",
       "      <td>283</td>\n",
       "      <td>119</td>\n",
       "      <td>8.0</td>\n",
       "      <td>6.0</td>\n",
       "      <td>1.0</td>\n",
       "      <td>27.171429</td>\n",
       "      <td>4.042857</td>\n",
       "      <td>0.148791</td>\n",
       "      <td>0.003155</td>\n",
       "      <td>0.085714</td>\n",
       "      <td>0.021201</td>\n",
       "    </tr>\n",
       "  </tbody>\n",
       "</table>\n",
       "</div>"
      ],
      "text/plain": [
       "   likeCount  dislikeCount  commentCount  locationDescription  month  hour  \\\n",
       "0       1425            21            91                   74    8.0   5.0   \n",
       "1       1171            26            98                   82    8.0   2.0   \n",
       "2       1485            41            78                   25    8.0   6.0   \n",
       "3       1305            41            65                  132    8.0  17.0   \n",
       "4       1902            70           283                  119    8.0   6.0   \n",
       "\n",
       "   weekday  like_ratio  comment_dislike  comment_like  like_hour  \\\n",
       "0      5.0   67.857143         4.333333      0.063860   0.003509   \n",
       "1      4.0   45.038462         3.769231      0.083689   0.001708   \n",
       "2      3.0   36.219512         1.902439      0.052525   0.004040   \n",
       "3      1.0   31.829268         1.585366      0.049808   0.013027   \n",
       "4      1.0   27.171429         4.042857      0.148791   0.003155   \n",
       "\n",
       "   dislike_hour  comment_hour  \n",
       "0      0.238095      0.054945  \n",
       "1      0.076923      0.020408  \n",
       "2      0.146341      0.076923  \n",
       "3      0.414634      0.261538  \n",
       "4      0.085714      0.021201  "
      ]
     },
     "execution_count": 140,
     "metadata": {},
     "output_type": "execute_result"
    }
   ],
   "source": [
    "df1.head()"
   ]
  },
  {
   "cell_type": "code",
   "execution_count": 141,
   "metadata": {},
   "outputs": [],
   "source": [
    "df1 = df1.join(df_y)"
   ]
  },
  {
   "cell_type": "code",
   "execution_count": 142,
   "metadata": {},
   "outputs": [
    {
     "data": {
      "text/plain": [
       "<matplotlib.axes._subplots.AxesSubplot at 0x1bcd2d76da0>"
      ]
     },
     "execution_count": 142,
     "metadata": {},
     "output_type": "execute_result"
    },
    {
     "data": {
      "image/png": "[encoded data removed]",
      "text/plain": [
       "<Figure size 432x288 with 1 Axes>"
      ]
     },
     "metadata": {
      "needs_background": "light"
     },
     "output_type": "display_data"
    }
   ],
   "source": [
    "df1['viewCount'].hist()"
   ]
  },
  {
   "cell_type": "code",
   "execution_count": 143,
   "metadata": {},
   "outputs": [],
   "source": [
    "df1 = df1[df1.viewCount < 400000]"
   ]
  },
  {
   "cell_type": "code",
   "execution_count": 144,
   "metadata": {},
   "outputs": [
    {
     "data": {
      "text/plain": [
       "<matplotlib.axes._subplots.AxesSubplot at 0x1bcd2e94be0>"
      ]
     },
     "execution_count": 144,
     "metadata": {},
     "output_type": "execute_result"
    },
    {
     "data": {
      "image/png": "[encoded data removed]",
      "text/plain": [
       "<Figure size 432x288 with 1 Axes>"
      ]
     },
     "metadata": {
      "needs_background": "light"
     },
     "output_type": "display_data"
    }
   ],
   "source": [
    "df1['viewCount'].hist(bins = 50)"
   ]
  },
  {
   "cell_type": "code",
   "execution_count": 145,
   "metadata": {},
   "outputs": [
    {
     "data": {
      "text/html": [
       "<div>\n",
       "<style scoped>\n",
       "    .dataframe tbody tr th:only-of-type {\n",
       "        vertical-align: middle;\n",
       "    }\n",
       "\n",
       "    .dataframe tbody tr th {\n",
       "        vertical-align: top;\n",
       "    }\n",
       "\n",
       "    .dataframe thead th {\n",
       "        text-align: right;\n",
       "    }\n",
       "</style>\n",
       "<table border=\"1\" class=\"dataframe\">\n",
       "  <thead>\n",
       "    <tr style=\"text-align: right;\">\n",
       "      <th></th>\n",
       "      <th>likeCount</th>\n",
       "      <th>dislikeCount</th>\n",
       "      <th>commentCount</th>\n",
       "      <th>locationDescription</th>\n",
       "      <th>month</th>\n",
       "      <th>hour</th>\n",
       "      <th>weekday</th>\n",
       "      <th>like_ratio</th>\n",
       "      <th>comment_dislike</th>\n",
       "      <th>comment_like</th>\n",
       "      <th>like_hour</th>\n",
       "      <th>dislike_hour</th>\n",
       "      <th>comment_hour</th>\n",
       "      <th>viewCount</th>\n",
       "    </tr>\n",
       "  </thead>\n",
       "  <tbody>\n",
       "    <tr>\n",
       "      <th>0</th>\n",
       "      <td>1425</td>\n",
       "      <td>21</td>\n",
       "      <td>91</td>\n",
       "      <td>74</td>\n",
       "      <td>8.0</td>\n",
       "      <td>5.0</td>\n",
       "      <td>5.0</td>\n",
       "      <td>67.857143</td>\n",
       "      <td>4.333333</td>\n",
       "      <td>0.063860</td>\n",
       "      <td>0.003509</td>\n",
       "      <td>0.238095</td>\n",
       "      <td>0.054945</td>\n",
       "      <td>22958</td>\n",
       "    </tr>\n",
       "    <tr>\n",
       "      <th>1</th>\n",
       "      <td>1171</td>\n",
       "      <td>26</td>\n",
       "      <td>98</td>\n",
       "      <td>82</td>\n",
       "      <td>8.0</td>\n",
       "      <td>2.0</td>\n",
       "      <td>4.0</td>\n",
       "      <td>45.038462</td>\n",
       "      <td>3.769231</td>\n",
       "      <td>0.083689</td>\n",
       "      <td>0.001708</td>\n",
       "      <td>0.076923</td>\n",
       "      <td>0.020408</td>\n",
       "      <td>13821</td>\n",
       "    </tr>\n",
       "    <tr>\n",
       "      <th>2</th>\n",
       "      <td>1485</td>\n",
       "      <td>41</td>\n",
       "      <td>78</td>\n",
       "      <td>25</td>\n",
       "      <td>8.0</td>\n",
       "      <td>6.0</td>\n",
       "      <td>3.0</td>\n",
       "      <td>36.219512</td>\n",
       "      <td>1.902439</td>\n",
       "      <td>0.052525</td>\n",
       "      <td>0.004040</td>\n",
       "      <td>0.146341</td>\n",
       "      <td>0.076923</td>\n",
       "      <td>19513</td>\n",
       "    </tr>\n",
       "    <tr>\n",
       "      <th>3</th>\n",
       "      <td>1305</td>\n",
       "      <td>41</td>\n",
       "      <td>65</td>\n",
       "      <td>132</td>\n",
       "      <td>8.0</td>\n",
       "      <td>17.0</td>\n",
       "      <td>1.0</td>\n",
       "      <td>31.829268</td>\n",
       "      <td>1.585366</td>\n",
       "      <td>0.049808</td>\n",
       "      <td>0.013027</td>\n",
       "      <td>0.414634</td>\n",
       "      <td>0.261538</td>\n",
       "      <td>20763</td>\n",
       "    </tr>\n",
       "    <tr>\n",
       "      <th>4</th>\n",
       "      <td>1902</td>\n",
       "      <td>70</td>\n",
       "      <td>283</td>\n",
       "      <td>119</td>\n",
       "      <td>8.0</td>\n",
       "      <td>6.0</td>\n",
       "      <td>1.0</td>\n",
       "      <td>27.171429</td>\n",
       "      <td>4.042857</td>\n",
       "      <td>0.148791</td>\n",
       "      <td>0.003155</td>\n",
       "      <td>0.085714</td>\n",
       "      <td>0.021201</td>\n",
       "      <td>37401</td>\n",
       "    </tr>\n",
       "  </tbody>\n",
       "</table>\n",
       "</div>"
      ],
      "text/plain": [
       "   likeCount  dislikeCount  commentCount  locationDescription  month  hour  \\\n",
       "0       1425            21            91                   74    8.0   5.0   \n",
       "1       1171            26            98                   82    8.0   2.0   \n",
       "2       1485            41            78                   25    8.0   6.0   \n",
       "3       1305            41            65                  132    8.0  17.0   \n",
       "4       1902            70           283                  119    8.0   6.0   \n",
       "\n",
       "   weekday  like_ratio  comment_dislike  comment_like  like_hour  \\\n",
       "0      5.0   67.857143         4.333333      0.063860   0.003509   \n",
       "1      4.0   45.038462         3.769231      0.083689   0.001708   \n",
       "2      3.0   36.219512         1.902439      0.052525   0.004040   \n",
       "3      1.0   31.829268         1.585366      0.049808   0.013027   \n",
       "4      1.0   27.171429         4.042857      0.148791   0.003155   \n",
       "\n",
       "   dislike_hour  comment_hour  viewCount  \n",
       "0      0.238095      0.054945      22958  \n",
       "1      0.076923      0.020408      13821  \n",
       "2      0.146341      0.076923      19513  \n",
       "3      0.414634      0.261538      20763  \n",
       "4      0.085714      0.021201      37401  "
      ]
     },
     "execution_count": 145,
     "metadata": {},
     "output_type": "execute_result"
    }
   ],
   "source": [
    "df1.head()"
   ]
  },
  {
   "cell_type": "code",
   "execution_count": 146,
   "metadata": {},
   "outputs": [],
   "source": [
    "y = df1['viewCount']\n",
    "X = df1.drop('viewCount', axis=1)\n",
    "\n",
    "X_train, X_test, y_train, y_test = train_test_split(X, y, test_size=0.2, random_state=42)"
   ]
  },
  {
   "cell_type": "code",
   "execution_count": 147,
   "metadata": {},
   "outputs": [],
   "source": [
    "model = LinearRegression()"
   ]
  },
  {
   "cell_type": "code",
   "execution_count": 148,
   "metadata": {},
   "outputs": [
    {
     "data": {
      "text/plain": [
       "LinearRegression(copy_X=True, fit_intercept=True, n_jobs=None, normalize=False)"
      ]
     },
     "execution_count": 148,
     "metadata": {},
     "output_type": "execute_result"
    }
   ],
   "source": [
    "model.fit(X_train, y_train)"
   ]
  },
  {
   "cell_type": "code",
   "execution_count": 149,
   "metadata": {},
   "outputs": [],
   "source": [
    "result = model.predict(X_test)"
   ]
  },
  {
   "cell_type": "code",
   "execution_count": 150,
   "metadata": {},
   "outputs": [
    {
     "name": "stdout",
     "output_type": "stream",
     "text": [
      "MAE 7941.796437654413\n",
      "MSE 132890843.09785065\n",
      "R2 0.9077712747806662\n"
     ]
    }
   ],
   "source": [
    "print('MAE' ,mean_absolute_error(y_test, result))\n",
    "print('MSE', mean_squared_error(y_test,result))\n",
    "print('R2', r2_score(y_test,result))"
   ]
  },
  {
   "cell_type": "code",
   "execution_count": 151,
   "metadata": {},
   "outputs": [
    {
     "data": {
      "text/plain": [
       "<matplotlib.collections.PathCollection at 0x1bcd30999b0>"
      ]
     },
     "execution_count": 151,
     "metadata": {},
     "output_type": "execute_result"
    },
    {
     "data": {
      "image/png": "[encoded data removed]",
      "text/plain": [
       "<Figure size 432x288 with 1 Axes>"
      ]
     },
     "metadata": {
      "needs_background": "light"
     },
     "output_type": "display_data"
    }
   ],
   "source": [
    "plt.xlabel('y_test')\n",
    "plt.ylabel('predict')\n",
    "plt.scatter(y_test, result)"
   ]
  },
  {
   "cell_type": "code",
   "execution_count": null,
   "metadata": {},
   "outputs": [],
   "source": []
  },
  {
   "cell_type": "code",
   "execution_count": null,
   "metadata": {},
   "outputs": [],
   "source": []
  }
 ],
 "metadata": {
  "kernelspec": {
   "display_name": "Python 3",
   "language": "python",
   "name": "python3"
  },
  "language_info": {
   "codemirror_mode": {
    "name": "ipython",
    "version": 3
   },
   "file_extension": ".py",
   "mimetype": "text/x-python",
   "name": "python",
   "nbconvert_exporter": "python",
   "pygments_lexer": "ipython3",
   "version": "3.7.3"
  }
 },
 "nbformat": 4,
 "nbformat_minor": 2
}
